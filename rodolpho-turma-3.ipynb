{
 "cells": [
  {
   "cell_type": "markdown",
   "metadata": {},
   "source": [
    "# NIAS-IA: Treinamento turma 3"
   ]
  },
  {
   "cell_type": "code",
   "execution_count": 3,
   "metadata": {},
   "outputs": [],
   "source": [
    "import numpy as np"
   ]
  },
  {
   "cell_type": "markdown",
   "metadata": {},
   "source": [
    "## Exercício 3.1: Twitter Sentiment Analysis\n",
    "\n",
    "Classificar os tweets abaixo em tweets felizes ou tweets tristes"
   ]
  },
  {
   "cell_type": "code",
   "execution_count": 35,
   "metadata": {},
   "outputs": [],
   "source": [
    "tweets = [\n",
    "\"Wow, what a great day today!! #sunshine\",\n",
    "\"I feel sad about the things going on around us. #covid19\",\n",
    "\"I'm really excited to learn Python with @JovianML #zerotopandas\",\n",
    "\"This is a really nice song. #linkinpark\",\n",
    "\"The python programming language is useful for data science\",\n",
    "\"Why do bad things happen to me?\",\n",
    "\"Apple announces the release of the new iPhone 12. Fans are excited.\",\n",
    "\"Spent my day with family!! #happy\",\n",
    "\"Check out my blog post on common string operations in Python. #zerotopandas\",\n",
    "\"Freecodecamp has great coding tutorials. #skillup\"\n",
    "]"
   ]
  },
  {
   "cell_type": "markdown",
   "metadata": {},
   "source": [
    "1. Quantos tweets existem nesse banco de dados?"
   ]
  },
  {
   "cell_type": "code",
   "execution_count": 36,
   "metadata": {},
   "outputs": [
    {
     "name": "stdout",
     "output_type": "stream",
     "text": [
      "Existem 10 tweets na lista.\n"
     ]
    }
   ],
   "source": [
    "print(\"Existem {0} tweets na lista.\".format(np.size(tweets)))"
   ]
  },
  {
   "cell_type": "markdown",
   "metadata": {},
   "source": [
    "2. A partir das listas de palavras apresentadas abaixo, tome o primeiro tweet como amostra e identifique se é feliz ou não.\n",
    "\n",
    "happy_words = ['great', 'excited', 'happy', 'nice', 'wonderful', 'amazing', 'good', 'best']\n",
    "sad_words = ['sad', 'bad', 'tragic', 'unhappy', 'worst']"
   ]
  },
  {
   "cell_type": "code",
   "execution_count": 37,
   "metadata": {},
   "outputs": [],
   "source": [
    "happy_words = ['great', 'excited', 'happy', 'nice', 'wonderful', 'amazing', 'good', 'best']\n",
    "sad_words = ['sad', 'bad', 'tragic', 'unhappy', 'worst']\n",
    "\n",
    "primeiro_tweet = tweets[0].split()"
   ]
  },
  {
   "cell_type": "code",
   "execution_count": 30,
   "metadata": {},
   "outputs": [
    {
     "name": "stdout",
     "output_type": "stream",
     "text": [
      "\"Wow, what a great day today!! #sunshine\"\n",
      "É um tweet feliz!\n"
     ]
    }
   ],
   "source": [
    "tweet_status = \"neutral\"\n",
    "for word in primeiro_tweet:\n",
    "    if word in happy_words:\n",
    "        tweet_status = \"happy\"\n",
    "        break\n",
    "    elif word in sad_words:\n",
    "        tweet_status = \"sad\"\n",
    "        break\n",
    "    else:\n",
    "        tweet_status = \"neutral\"        \n",
    "\n",
    "print('\"' + tweets[0] + '\"')\n",
    "\n",
    "if tweet_status == \"happy\":\n",
    "    print(\"É um tweet feliz!\")\n",
    "elif tweet_status == \"sad\":\n",
    "    print(\"É um tweet triste!\")\n",
    "else:\n",
    "    print(\"Não foi possível identificar :(\")"
   ]
  },
  {
   "cell_type": "markdown",
   "metadata": {},
   "source": [
    "3. A partir do item “b)”, crie uma nova variável que conte quantos tweets felizes estão contidos na lista “tweets”, crie também outra variável que conte o número de tweets tristes. Exiba os número encontrados com um texto que os defina."
   ]
  },
  {
   "cell_type": "code",
   "execution_count": 77,
   "metadata": {},
   "outputs": [
    {
     "name": "stdout",
     "output_type": "stream",
     "text": [
      "Foram idendificados 6 tweets felizes e 2 tweets tristes. 2 tweets não foram categorizados.\n"
     ]
    }
   ],
   "source": [
    "happy_count = 0\n",
    "sad_count = 0\n",
    "unidentified_count = 0\n",
    "#tweet_status = \"neutral\"\n",
    "\n",
    "for tweet_ativo in tweets:\n",
    "    tweet_analise = [i.strip(\"#!,@$%^&*().;\") for i in tweet_ativo.split()]\n",
    "    for word in tweet_analise:\n",
    "        #print(word)\n",
    "        if word in happy_words:\n",
    "            #tweet_status = \"happy\"\n",
    "            happy_count += 1\n",
    "            break\n",
    "        elif word in sad_words:\n",
    "            #tweet_status = \"sad\"\n",
    "            sad_count += 1\n",
    "            break\n",
    "\n",
    "print('Foram idendificados {} tweets felizes e {} tweets tristes. {} tweets não foram categorizados.'.format(happy_count,sad_count,np.size(tweets)-happy_count-sad_count))"
   ]
  },
  {
   "cell_type": "markdown",
   "metadata": {},
   "source": [
    "## Exercício 4 - Explotando o \"COVID-19 Dataset\""
   ]
  },
  {
   "cell_type": "markdown",
   "metadata": {},
   "source": [
    "Os itens abaixo contem tarefas que devem ser cumprimas utilizando a biblioteca Pandas, abaixo da atividade em si, contém um passo a passo para a construção do item, este passo a passo é opcional para facilitar a construção do código, se o aluno preferir fazer da sua forma, é permitido desde que realize o que se pede no item."
   ]
  },
  {
   "cell_type": "markdown",
   "metadata": {},
   "source": [
    "1. O primeiro passo da exploração de dados é obter informações gerais, deve-se\n",
    "importar o arquivo “covid_19_clean_complete.csv” e obter as seguintes informações."
   ]
  },
  {
   "cell_type": "markdown",
   "metadata": {},
   "source": [
    "a. Quantidade de linhas e colunas"
   ]
  },
  {
   "cell_type": "markdown",
   "metadata": {},
   "source": [
    "b. Quais são as colunas"
   ]
  },
  {
   "cell_type": "markdown",
   "metadata": {},
   "source": [
    "c. O tipo de dado de cada coluna"
   ]
  },
  {
   "cell_type": "markdown",
   "metadata": {},
   "source": [
    "d. A coluna de datas deve ser transformada de “Object” para “datetime64”, utilizando o comando “pd.todatetime( )”"
   ]
  },
  {
   "cell_type": "markdown",
   "metadata": {},
   "source": [
    "e. Informações estatísticas sobre o banco de dados"
   ]
  },
  {
   "cell_type": "markdown",
   "metadata": {},
   "source": [
    "f. Se necessário, transformar uma coluna pertinente para formato de data"
   ]
  },
  {
   "cell_type": "markdown",
   "metadata": {},
   "source": [
    "g. Quais colunas apresentam NaN"
   ]
  },
  {
   "cell_type": "markdown",
   "metadata": {},
   "source": [
    "2. Crie um dataframe que contenha apenas as 5 províncias da China que mais registraram casos.\n",
    "a. Descubra qual o nome das províncias chinesas contidas no dataset\n",
    "b. Retire do banco de dados apenas as informações dessas províncias\n",
    "c. Tome apenas as informações das features: “Confirmed”, “Active”, “Deaths”,\n",
    "“Recovered”\n",
    "d. Agrupe o novo dataframe a partir dessas províncias. Qual a função de\n",
    "agrupamento que deve ser usada?\n",
    "e. Produza um dataframe contendo as 5 regiões com o maior número de casos\n",
    "confirmados"
   ]
  },
  {
   "cell_type": "markdown",
   "metadata": {},
   "source": [
    "3. A coluna “Province/State” contém muitos valores faltando. Para descartá-la perdendo\n",
    "o mínimo de informação, inclua na coluna “Country/Region” o nome das regiões junto\n",
    "ao nome dos países em que existem mais de uma província registrada no banco de\n",
    "dados, utilizando o método “.apply”. Como por exemplo, juntar o nome China com a\n",
    "região pertinente: “China_Hubei”, “China_Guangdong”.\n",
    "a. Elabore uma função que tenha uma linha do banco de dados como argumento\n",
    "e, se a coluna “Province/State” não for valor faltante, concatenar seu valor com\n",
    "coluna “Country/Region”\n",
    "i. Utilize o método “pandas.notna” para averiguar de “Province/State”\n",
    "é valor faltante\n",
    "b. Faça uma cópia do banco de dados para poder retirar informações sem perder\n",
    "o banco de dados original\n",
    "c. Aplique, por meio do método “apply”, a função criada no item a\n",
    "d. Exclua a coluna “Province/State” do novo dataframe"
   ]
  },
  {
   "cell_type": "markdown",
   "metadata": {},
   "source": [
    "4. Importe o arquivo \"world meter data.csv\" e, a partir de seus dados de população e\n",
    "continentes, faça um ranking de maior número de mortes por milhão de habitantes\n",
    "entre os continentes.\n",
    "a. Importar o banco de dados \"world meter data.csv\"\n",
    "b. Tome apenas as informações de população, país e continentes deste banco de\n",
    "dados\n",
    "c. Agrupe o “covid_19_clean_complete” por países. Deve-se usar o dataframe do\n",
    "item “c)” ou o original?\n",
    "d. Mescle os dois dataframes, a partir dos países, contendo apenas as\n",
    "informações de mortes, população e continente\n",
    "e. Agrupe o novo dataset agora pelo continente\n",
    "f. Crie uma nova coluna contendo o número de mortes por milhão dentro dos\n",
    "continentes (Utilize a fórmula: (mortes/população)*10^6)\n",
    "g. Faça um ranking do número de mortes por milhão de habitantes entre os\n",
    "continentes"
   ]
  }
 ],
 "metadata": {
  "kernelspec": {
   "display_name": "Python 3.8.8 ('base')",
   "language": "python",
   "name": "python3"
  },
  "language_info": {
   "codemirror_mode": {
    "name": "ipython",
    "version": 3
   },
   "file_extension": ".py",
   "mimetype": "text/x-python",
   "name": "python",
   "nbconvert_exporter": "python",
   "pygments_lexer": "ipython3",
   "version": "3.8.8"
  },
  "orig_nbformat": 4,
  "vscode": {
   "interpreter": {
    "hash": "1c7a8c76984675e355a0dfdc4f4d943461b74dc7556de6e3aae64cbcda3bfd1a"
   }
  }
 },
 "nbformat": 4,
 "nbformat_minor": 2
}
